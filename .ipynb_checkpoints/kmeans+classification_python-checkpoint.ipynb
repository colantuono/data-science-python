{
 "cells": [
  {
   "cell_type": "code",
   "execution_count": 1,
   "metadata": {},
   "outputs": [],
   "source": [
    "import warnings\n",
    "warnings.filterwarnings('ignore')\n",
    "\n",
    "import numpy as np\n",
    "import pandas as pd\n",
    "pd.set_option('display.max_columns', None)\n",
    "import matplotlib.pyplot as plt\n",
    "%matplotlib inline\n",
    "from sklearn.cluster import KMeans"
   ]
  },
  {
   "cell_type": "markdown",
   "metadata": {},
   "source": [
    "### EDA and feature enginnering"
   ]
  },
  {
   "cell_type": "code",
   "execution_count": 45,
   "metadata": {},
   "outputs": [
    {
     "name": "stdout",
     "output_type": "stream",
     "text": [
      "(200, 5)\n",
      "Amount of unique Cus_ID:  200.0\n"
     ]
    },
    {
     "data": {
      "text/html": [
       "<div>\n",
       "<style scoped>\n",
       "    .dataframe tbody tr th:only-of-type {\n",
       "        vertical-align: middle;\n",
       "    }\n",
       "\n",
       "    .dataframe tbody tr th {\n",
       "        vertical-align: top;\n",
       "    }\n",
       "\n",
       "    .dataframe thead th {\n",
       "        text-align: right;\n",
       "    }\n",
       "</style>\n",
       "<table border=\"1\" class=\"dataframe\">\n",
       "  <thead>\n",
       "    <tr style=\"text-align: right;\">\n",
       "      <th></th>\n",
       "      <th>Cus_ID</th>\n",
       "      <th>Sex</th>\n",
       "      <th>Age</th>\n",
       "      <th>Income</th>\n",
       "      <th>Rating</th>\n",
       "    </tr>\n",
       "  </thead>\n",
       "  <tbody>\n",
       "    <tr>\n",
       "      <th>0</th>\n",
       "      <td>301219</td>\n",
       "      <td>M</td>\n",
       "      <td>23</td>\n",
       "      <td>306555</td>\n",
       "      <td>44</td>\n",
       "    </tr>\n",
       "    <tr>\n",
       "      <th>1</th>\n",
       "      <td>301220</td>\n",
       "      <td>F</td>\n",
       "      <td>26</td>\n",
       "      <td>306555</td>\n",
       "      <td>91</td>\n",
       "    </tr>\n",
       "    <tr>\n",
       "      <th>2</th>\n",
       "      <td>301221</td>\n",
       "      <td>F</td>\n",
       "      <td>24</td>\n",
       "      <td>326992</td>\n",
       "      <td>7</td>\n",
       "    </tr>\n",
       "    <tr>\n",
       "      <th>3</th>\n",
       "      <td>301222</td>\n",
       "      <td>M</td>\n",
       "      <td>28</td>\n",
       "      <td>326992</td>\n",
       "      <td>87</td>\n",
       "    </tr>\n",
       "    <tr>\n",
       "      <th>4</th>\n",
       "      <td>301223</td>\n",
       "      <td>F</td>\n",
       "      <td>38</td>\n",
       "      <td>347429</td>\n",
       "      <td>45</td>\n",
       "    </tr>\n",
       "  </tbody>\n",
       "</table>\n",
       "</div>"
      ],
      "text/plain": [
       "   Cus_ID Sex  Age  Income  Rating\n",
       "0  301219   M   23  306555      44\n",
       "1  301220   F   26  306555      91\n",
       "2  301221   F   24  326992       7\n",
       "3  301222   M   28  326992      87\n",
       "4  301223   F   38  347429      45"
      ]
     },
     "execution_count": 45,
     "metadata": {},
     "output_type": "execute_result"
    }
   ],
   "source": [
    "df = pd.read_csv('Bases de Dados/amazon_customer_segmentation.csv')\n",
    "print(df.shape)\n",
    "print('Amount of unique Cus_ID: ', df['Cus_ID'].value_counts().describe()['mean'] * df['Cus_ID'].value_counts().describe()['count']) \n",
    "df.head()"
   ]
  },
  {
   "cell_type": "code",
   "execution_count": 46,
   "metadata": {},
   "outputs": [
    {
     "data": {
      "text/html": [
       "<div>\n",
       "<style scoped>\n",
       "    .dataframe tbody tr th:only-of-type {\n",
       "        vertical-align: middle;\n",
       "    }\n",
       "\n",
       "    .dataframe tbody tr th {\n",
       "        vertical-align: top;\n",
       "    }\n",
       "\n",
       "    .dataframe thead th {\n",
       "        text-align: right;\n",
       "    }\n",
       "</style>\n",
       "<table border=\"1\" class=\"dataframe\">\n",
       "  <thead>\n",
       "    <tr style=\"text-align: right;\">\n",
       "      <th></th>\n",
       "      <th>Cus_ID</th>\n",
       "      <th>Age</th>\n",
       "      <th>Income</th>\n",
       "      <th>Rating</th>\n",
       "    </tr>\n",
       "  </thead>\n",
       "  <tbody>\n",
       "    <tr>\n",
       "      <th>count</th>\n",
       "      <td>200.000000</td>\n",
       "      <td>200.000000</td>\n",
       "      <td>2.000000e+02</td>\n",
       "      <td>200.000000</td>\n",
       "    </tr>\n",
       "    <tr>\n",
       "      <th>mean</th>\n",
       "      <td>301318.500000</td>\n",
       "      <td>46.985000</td>\n",
       "      <td>1.237665e+06</td>\n",
       "      <td>56.705000</td>\n",
       "    </tr>\n",
       "    <tr>\n",
       "      <th>std</th>\n",
       "      <td>57.879185</td>\n",
       "      <td>16.751353</td>\n",
       "      <td>5.367721e+05</td>\n",
       "      <td>28.900418</td>\n",
       "    </tr>\n",
       "    <tr>\n",
       "      <th>min</th>\n",
       "      <td>301219.000000</td>\n",
       "      <td>22.000000</td>\n",
       "      <td>3.065550e+05</td>\n",
       "      <td>2.000000</td>\n",
       "    </tr>\n",
       "    <tr>\n",
       "      <th>25%</th>\n",
       "      <td>301268.750000</td>\n",
       "      <td>34.750000</td>\n",
       "      <td>8.481355e+05</td>\n",
       "      <td>39.750000</td>\n",
       "    </tr>\n",
       "    <tr>\n",
       "      <th>50%</th>\n",
       "      <td>301318.500000</td>\n",
       "      <td>44.000000</td>\n",
       "      <td>1.256876e+06</td>\n",
       "      <td>56.000000</td>\n",
       "    </tr>\n",
       "    <tr>\n",
       "      <th>75%</th>\n",
       "      <td>301368.250000</td>\n",
       "      <td>59.000000</td>\n",
       "      <td>1.594086e+06</td>\n",
       "      <td>82.000000</td>\n",
       "    </tr>\n",
       "    <tr>\n",
       "      <th>max</th>\n",
       "      <td>301418.000000</td>\n",
       "      <td>84.000000</td>\n",
       "      <td>2.799869e+06</td>\n",
       "      <td>111.000000</td>\n",
       "    </tr>\n",
       "  </tbody>\n",
       "</table>\n",
       "</div>"
      ],
      "text/plain": [
       "              Cus_ID         Age        Income      Rating\n",
       "count     200.000000  200.000000  2.000000e+02  200.000000\n",
       "mean   301318.500000   46.985000  1.237665e+06   56.705000\n",
       "std        57.879185   16.751353  5.367721e+05   28.900418\n",
       "min    301219.000000   22.000000  3.065550e+05    2.000000\n",
       "25%    301268.750000   34.750000  8.481355e+05   39.750000\n",
       "50%    301318.500000   44.000000  1.256876e+06   56.000000\n",
       "75%    301368.250000   59.000000  1.594086e+06   82.000000\n",
       "max    301418.000000   84.000000  2.799869e+06  111.000000"
      ]
     },
     "execution_count": 46,
     "metadata": {},
     "output_type": "execute_result"
    }
   ],
   "source": [
    "df.describe()"
   ]
  },
  {
   "cell_type": "code",
   "execution_count": 47,
   "metadata": {},
   "outputs": [
    {
     "data": {
      "text/html": [
       "<div>\n",
       "<style scoped>\n",
       "    .dataframe tbody tr th:only-of-type {\n",
       "        vertical-align: middle;\n",
       "    }\n",
       "\n",
       "    .dataframe tbody tr th {\n",
       "        vertical-align: top;\n",
       "    }\n",
       "\n",
       "    .dataframe thead th {\n",
       "        text-align: right;\n",
       "    }\n",
       "</style>\n",
       "<table border=\"1\" class=\"dataframe\">\n",
       "  <thead>\n",
       "    <tr style=\"text-align: right;\">\n",
       "      <th></th>\n",
       "      <th>Cus_ID</th>\n",
       "      <th>Sex_Female?</th>\n",
       "      <th>Age</th>\n",
       "      <th>Income</th>\n",
       "      <th>Rating</th>\n",
       "    </tr>\n",
       "  </thead>\n",
       "  <tbody>\n",
       "    <tr>\n",
       "      <th>0</th>\n",
       "      <td>301219</td>\n",
       "      <td>0</td>\n",
       "      <td>23</td>\n",
       "      <td>306555</td>\n",
       "      <td>44</td>\n",
       "    </tr>\n",
       "    <tr>\n",
       "      <th>1</th>\n",
       "      <td>301220</td>\n",
       "      <td>1</td>\n",
       "      <td>26</td>\n",
       "      <td>306555</td>\n",
       "      <td>91</td>\n",
       "    </tr>\n",
       "    <tr>\n",
       "      <th>2</th>\n",
       "      <td>301221</td>\n",
       "      <td>1</td>\n",
       "      <td>24</td>\n",
       "      <td>326992</td>\n",
       "      <td>7</td>\n",
       "    </tr>\n",
       "    <tr>\n",
       "      <th>3</th>\n",
       "      <td>301222</td>\n",
       "      <td>0</td>\n",
       "      <td>28</td>\n",
       "      <td>326992</td>\n",
       "      <td>87</td>\n",
       "    </tr>\n",
       "    <tr>\n",
       "      <th>4</th>\n",
       "      <td>301223</td>\n",
       "      <td>1</td>\n",
       "      <td>38</td>\n",
       "      <td>347429</td>\n",
       "      <td>45</td>\n",
       "    </tr>\n",
       "  </tbody>\n",
       "</table>\n",
       "</div>"
      ],
      "text/plain": [
       "   Cus_ID  Sex_Female?  Age  Income  Rating\n",
       "0  301219            0   23  306555      44\n",
       "1  301220            1   26  306555      91\n",
       "2  301221            1   24  326992       7\n",
       "3  301222            0   28  326992      87\n",
       "4  301223            1   38  347429      45"
      ]
     },
     "execution_count": 47,
     "metadata": {},
     "output_type": "execute_result"
    }
   ],
   "source": [
    "df['Sex'] = np.where(df['Sex'] == 'F', 1, 0)\n",
    "df.rename(columns = {'Sex':'Sex_Female?'}, inplace = True)\n",
    "df.head()"
   ]
  },
  {
   "cell_type": "code",
   "execution_count": 48,
   "metadata": {},
   "outputs": [
    {
     "data": {
      "text/html": [
       "<div>\n",
       "<style scoped>\n",
       "    .dataframe tbody tr th:only-of-type {\n",
       "        vertical-align: middle;\n",
       "    }\n",
       "\n",
       "    .dataframe tbody tr th {\n",
       "        vertical-align: top;\n",
       "    }\n",
       "\n",
       "    .dataframe thead th {\n",
       "        text-align: right;\n",
       "    }\n",
       "</style>\n",
       "<table border=\"1\" class=\"dataframe\">\n",
       "  <thead>\n",
       "    <tr style=\"text-align: right;\">\n",
       "      <th></th>\n",
       "      <th>Income</th>\n",
       "      <th>Rating</th>\n",
       "    </tr>\n",
       "  </thead>\n",
       "  <tbody>\n",
       "    <tr>\n",
       "      <th>0</th>\n",
       "      <td>306555</td>\n",
       "      <td>44</td>\n",
       "    </tr>\n",
       "    <tr>\n",
       "      <th>1</th>\n",
       "      <td>306555</td>\n",
       "      <td>91</td>\n",
       "    </tr>\n",
       "    <tr>\n",
       "      <th>2</th>\n",
       "      <td>326992</td>\n",
       "      <td>7</td>\n",
       "    </tr>\n",
       "    <tr>\n",
       "      <th>3</th>\n",
       "      <td>326992</td>\n",
       "      <td>87</td>\n",
       "    </tr>\n",
       "    <tr>\n",
       "      <th>4</th>\n",
       "      <td>347429</td>\n",
       "      <td>45</td>\n",
       "    </tr>\n",
       "  </tbody>\n",
       "</table>\n",
       "</div>"
      ],
      "text/plain": [
       "   Income  Rating\n",
       "0  306555      44\n",
       "1  306555      91\n",
       "2  326992       7\n",
       "3  326992      87\n",
       "4  347429      45"
      ]
     },
     "execution_count": 48,
     "metadata": {},
     "output_type": "execute_result"
    }
   ],
   "source": [
    "df2 = df.drop(['Cus_ID', 'Sex_Female?', \"Age\"], axis = 1)\n",
    "df2.head()"
   ]
  },
  {
   "cell_type": "markdown",
   "metadata": {},
   "source": [
    "### Bringing Income to the same value range as rating\n",
    "[Scaling](https://www.kaggle.com/code/alexisbcook/scaling-and-normalization)"
   ]
  },
  {
   "cell_type": "code",
   "execution_count": 49,
   "metadata": {},
   "outputs": [
    {
     "data": {
      "text/html": [
       "<div>\n",
       "<style scoped>\n",
       "    .dataframe tbody tr th:only-of-type {\n",
       "        vertical-align: middle;\n",
       "    }\n",
       "\n",
       "    .dataframe tbody tr th {\n",
       "        vertical-align: top;\n",
       "    }\n",
       "\n",
       "    .dataframe thead th {\n",
       "        text-align: right;\n",
       "    }\n",
       "</style>\n",
       "<table border=\"1\" class=\"dataframe\">\n",
       "  <thead>\n",
       "    <tr style=\"text-align: right;\">\n",
       "      <th></th>\n",
       "      <th>Income</th>\n",
       "      <th>Rating</th>\n",
       "    </tr>\n",
       "  </thead>\n",
       "  <tbody>\n",
       "    <tr>\n",
       "      <th>count</th>\n",
       "      <td>2.000000e+02</td>\n",
       "      <td>200.000000</td>\n",
       "    </tr>\n",
       "    <tr>\n",
       "      <th>mean</th>\n",
       "      <td>1.237665e+06</td>\n",
       "      <td>56.705000</td>\n",
       "    </tr>\n",
       "    <tr>\n",
       "      <th>std</th>\n",
       "      <td>5.367721e+05</td>\n",
       "      <td>28.900418</td>\n",
       "    </tr>\n",
       "    <tr>\n",
       "      <th>min</th>\n",
       "      <td>3.065550e+05</td>\n",
       "      <td>2.000000</td>\n",
       "    </tr>\n",
       "    <tr>\n",
       "      <th>25%</th>\n",
       "      <td>8.481355e+05</td>\n",
       "      <td>39.750000</td>\n",
       "    </tr>\n",
       "    <tr>\n",
       "      <th>50%</th>\n",
       "      <td>1.256876e+06</td>\n",
       "      <td>56.000000</td>\n",
       "    </tr>\n",
       "    <tr>\n",
       "      <th>75%</th>\n",
       "      <td>1.594086e+06</td>\n",
       "      <td>82.000000</td>\n",
       "    </tr>\n",
       "    <tr>\n",
       "      <th>max</th>\n",
       "      <td>2.799869e+06</td>\n",
       "      <td>111.000000</td>\n",
       "    </tr>\n",
       "  </tbody>\n",
       "</table>\n",
       "</div>"
      ],
      "text/plain": [
       "             Income      Rating\n",
       "count  2.000000e+02  200.000000\n",
       "mean   1.237665e+06   56.705000\n",
       "std    5.367721e+05   28.900418\n",
       "min    3.065550e+05    2.000000\n",
       "25%    8.481355e+05   39.750000\n",
       "50%    1.256876e+06   56.000000\n",
       "75%    1.594086e+06   82.000000\n",
       "max    2.799869e+06  111.000000"
      ]
     },
     "execution_count": 49,
     "metadata": {},
     "output_type": "execute_result"
    }
   ],
   "source": [
    "df2.describe()"
   ]
  },
  {
   "cell_type": "code",
   "execution_count": 50,
   "metadata": {},
   "outputs": [
    {
     "data": {
      "text/html": [
       "<div>\n",
       "<style scoped>\n",
       "    .dataframe tbody tr th:only-of-type {\n",
       "        vertical-align: middle;\n",
       "    }\n",
       "\n",
       "    .dataframe tbody tr th {\n",
       "        vertical-align: top;\n",
       "    }\n",
       "\n",
       "    .dataframe thead th {\n",
       "        text-align: right;\n",
       "    }\n",
       "</style>\n",
       "<table border=\"1\" class=\"dataframe\">\n",
       "  <thead>\n",
       "    <tr style=\"text-align: right;\">\n",
       "      <th></th>\n",
       "      <th>Income (10K)</th>\n",
       "      <th>Rating</th>\n",
       "    </tr>\n",
       "  </thead>\n",
       "  <tbody>\n",
       "    <tr>\n",
       "      <th>count</th>\n",
       "      <td>200.000000</td>\n",
       "      <td>200.000000</td>\n",
       "    </tr>\n",
       "    <tr>\n",
       "      <th>mean</th>\n",
       "      <td>123.760000</td>\n",
       "      <td>56.705000</td>\n",
       "    </tr>\n",
       "    <tr>\n",
       "      <th>std</th>\n",
       "      <td>53.659848</td>\n",
       "      <td>28.900418</td>\n",
       "    </tr>\n",
       "    <tr>\n",
       "      <th>min</th>\n",
       "      <td>31.000000</td>\n",
       "      <td>2.000000</td>\n",
       "    </tr>\n",
       "    <tr>\n",
       "      <th>25%</th>\n",
       "      <td>85.000000</td>\n",
       "      <td>39.750000</td>\n",
       "    </tr>\n",
       "    <tr>\n",
       "      <th>50%</th>\n",
       "      <td>126.000000</td>\n",
       "      <td>56.000000</td>\n",
       "    </tr>\n",
       "    <tr>\n",
       "      <th>75%</th>\n",
       "      <td>159.000000</td>\n",
       "      <td>82.000000</td>\n",
       "    </tr>\n",
       "    <tr>\n",
       "      <th>max</th>\n",
       "      <td>280.000000</td>\n",
       "      <td>111.000000</td>\n",
       "    </tr>\n",
       "  </tbody>\n",
       "</table>\n",
       "</div>"
      ],
      "text/plain": [
       "       Income (10K)      Rating\n",
       "count    200.000000  200.000000\n",
       "mean     123.760000   56.705000\n",
       "std       53.659848   28.900418\n",
       "min       31.000000    2.000000\n",
       "25%       85.000000   39.750000\n",
       "50%      126.000000   56.000000\n",
       "75%      159.000000   82.000000\n",
       "max      280.000000  111.000000"
      ]
     },
     "execution_count": 50,
     "metadata": {},
     "output_type": "execute_result"
    }
   ],
   "source": [
    "df2['Income'] = round(df2['Income'] / 10000,0)\n",
    "df2.rename(columns = {'Income':'Income (10K)'}, inplace = True)\n",
    "df2.describe()"
   ]
  },
  {
   "cell_type": "markdown",
   "metadata": {},
   "source": [
    "### Vizualizing the data\n",
    "- I can see clearly five clusters\n",
    "- But on some data it may not be as clear as this one, I run the code below to check.\n",
    "- When space between dots became stable, that's the appropriate number of clusters to start"
   ]
  },
  {
   "cell_type": "code",
   "execution_count": 52,
   "metadata": {},
   "outputs": [
    {
     "data": {
      "image/png": "[encoded data removed]",
      "text/plain": [
       "<Figure size 720x432 with 1 Axes>"
      ]
     },
     "metadata": {
      "needs_background": "light"
     },
     "output_type": "display_data"
    }
   ],
   "source": [
    "plt.figure(figsize = (10, 6))\n",
    "plt.scatter(df2['Income (10K)'], df2['Rating'], s = 5, color = \"blue\")\n",
    "plt.title('Base de dados para o K-means')\n",
    "plt.ylabel('Rating')\n",
    "plt.xlabel('Income (10K)');"
   ]
  },
  {
   "cell_type": "code",
   "execution_count": 53,
   "metadata": {},
   "outputs": [
    {
     "data": {
      "image/png": "[encoded data removed]",
      "text/plain": [
       "<Figure size 720x432 with 1 Axes>"
      ]
     },
     "metadata": {
      "needs_background": "light"
     },
     "output_type": "display_data"
    }
   ],
   "source": [
    "min_clusters = 2\n",
    "max_clusters = 20\n",
    "inertias = np.zeros(shape = (max_clusters - min_clusters + 1,))\n",
    "\n",
    "for i in range(min_clusters, max_clusters + 1):\n",
    "    km = KMeans(n_clusters = i, random_state = 1)\n",
    "    km.fit(df2)\n",
    "    inertias[i - min_clusters] = km.inertia_\n",
    "    \n",
    "plt.figure(figsize = (10, 6))\n",
    "plt.scatter(range(min_clusters, max_clusters + 1), inertias, s = 20, color = \"b\")\n",
    "plt.title('Avaliaçao do numero de clusters')\n",
    "plt.xlabel('# de clusters')\n",
    "plt.ylabel('Soma da distancia quadrada');"
   ]
  },
  {
   "cell_type": "code",
   "execution_count": 54,
   "metadata": {},
   "outputs": [
    {
     "data": {
      "text/plain": [
       "array([[113.325     ,  55.65      ],\n",
       "       [ 53.7826087 ,  88.43478261],\n",
       "       [180.51428571,  20.02857143],\n",
       "       [176.76923077,  92.41025641],\n",
       "       [ 53.7826087 ,  23.91304348]])"
      ]
     },
     "execution_count": 54,
     "metadata": {},
     "output_type": "execute_result"
    }
   ],
   "source": [
    "model = KMeans(n_clusters = 5, random_state = 1)\n",
    "clusters = model.fit(df2)\n",
    "clusters.cluster_centers_"
   ]
  },
  {
   "cell_type": "code",
   "execution_count": 55,
   "metadata": {},
   "outputs": [
    {
     "data": {
      "text/plain": [
       "array([4, 1, 4, 1, 4, 1, 4, 1, 4, 1, 4, 1, 4, 1, 4, 1, 4, 1, 4, 1, 4, 1,\n",
       "       4, 1, 4, 1, 4, 1, 4, 1, 4, 1, 4, 1, 4, 1, 4, 1, 4, 1, 4, 1, 4, 1,\n",
       "       4, 1, 0, 0, 0, 0, 0, 0, 0, 0, 0, 0, 0, 0, 0, 0, 0, 0, 0, 0, 0, 0,\n",
       "       0, 0, 0, 0, 0, 0, 0, 0, 0, 0, 0, 0, 0, 0, 0, 0, 0, 0, 0, 0, 0, 0,\n",
       "       0, 0, 0, 0, 0, 0, 0, 0, 0, 0, 0, 0, 0, 0, 0, 0, 0, 0, 0, 0, 0, 0,\n",
       "       0, 0, 0, 0, 0, 0, 0, 0, 0, 0, 0, 0, 0, 3, 0, 3, 0, 3, 2, 3, 2, 3,\n",
       "       0, 3, 2, 3, 2, 3, 2, 3, 2, 3, 2, 3, 2, 3, 2, 3, 2, 3, 2, 3, 2, 3,\n",
       "       2, 3, 2, 3, 2, 3, 2, 3, 2, 3, 2, 3, 2, 3, 2, 3, 2, 3, 2, 3, 2, 3,\n",
       "       2, 3, 2, 3, 2, 3, 2, 3, 2, 3, 2, 3, 2, 3, 2, 3, 2, 3, 2, 3, 2, 3,\n",
       "       2, 3])"
      ]
     },
     "execution_count": 55,
     "metadata": {},
     "output_type": "execute_result"
    }
   ],
   "source": [
    "clusters.labels_"
   ]
  },
  {
   "cell_type": "code",
   "execution_count": 59,
   "metadata": {},
   "outputs": [
    {
     "data": {
      "image/png": "[encoded data removed]",
      "text/plain": [
       "<Figure size 720x432 with 1 Axes>"
      ]
     },
     "metadata": {
      "needs_background": "light"
     },
     "output_type": "display_data"
    }
   ],
   "source": [
    "plt.figure(figsize = (10, 6))\n",
    "plt.scatter(df2['Income (10K)'], df2['Rating'], s = 5, color = \"blue\")\n",
    "plt.title('Dados e Clusters')\n",
    "plt.ylabel('Rating')\n",
    "plt.xlabel('Income (10K)');\n",
    "\n",
    "plt.scatter(clusters.cluster_centers_[0][0], clusters.cluster_centers_[0][1], marker='*', s = 150, color = 'red')\n",
    "plt.scatter(clusters.cluster_centers_[1][0], clusters.cluster_centers_[1][1], marker='*', s = 100, color = 'green')\n",
    "plt.scatter(clusters.cluster_centers_[2][0], clusters.cluster_centers_[2][1], marker='*', s = 100, color = 'black');\n",
    "plt.scatter(clusters.cluster_centers_[3][0], clusters.cluster_centers_[3][1], marker='*', s = 100, color = 'orange');\n",
    "plt.scatter(clusters.cluster_centers_[4][0], clusters.cluster_centers_[4][1], marker='*', s = 100, color = 'yellow');"
   ]
  },
  {
   "cell_type": "markdown",
   "metadata": {},
   "source": [
    "## Predicting Rating with Random Forest Regressor"
   ]
  },
  {
   "cell_type": "code",
   "execution_count": 60,
   "metadata": {},
   "outputs": [],
   "source": [
    "from sklearn.ensemble import RandomForestRegressor\n",
    "from sklearn.model_selection import train_test_split as tts\n",
    "from sklearn import metrics "
   ]
  },
  {
   "cell_type": "code",
   "execution_count": 61,
   "metadata": {},
   "outputs": [],
   "source": [
    "x = df.drop(['Cus_ID','Rating'], axis = 1)\n",
    "y = df['Rating']\n",
    "\n",
    "x_train, x_test, y_train, y_test = tts(x, y, test_size=0.5, random_state=1)"
   ]
  },
  {
   "cell_type": "code",
   "execution_count": 62,
   "metadata": {},
   "outputs": [
    {
     "data": {
      "text/html": [
       "<div>\n",
       "<style scoped>\n",
       "    .dataframe tbody tr th:only-of-type {\n",
       "        vertical-align: middle;\n",
       "    }\n",
       "\n",
       "    .dataframe tbody tr th {\n",
       "        vertical-align: top;\n",
       "    }\n",
       "\n",
       "    .dataframe thead th {\n",
       "        text-align: right;\n",
       "    }\n",
       "</style>\n",
       "<table border=\"1\" class=\"dataframe\">\n",
       "  <thead>\n",
       "    <tr style=\"text-align: right;\">\n",
       "      <th></th>\n",
       "      <th>Sex_Female?</th>\n",
       "      <th>Age</th>\n",
       "      <th>Income</th>\n",
       "    </tr>\n",
       "  </thead>\n",
       "  <tbody>\n",
       "    <tr>\n",
       "      <th>75</th>\n",
       "      <td>0</td>\n",
       "      <td>32</td>\n",
       "      <td>1103598</td>\n",
       "    </tr>\n",
       "    <tr>\n",
       "      <th>21</th>\n",
       "      <td>0</td>\n",
       "      <td>30</td>\n",
       "      <td>490488</td>\n",
       "    </tr>\n",
       "    <tr>\n",
       "      <th>91</th>\n",
       "      <td>0</td>\n",
       "      <td>22</td>\n",
       "      <td>1205783</td>\n",
       "    </tr>\n",
       "    <tr>\n",
       "      <th>152</th>\n",
       "      <td>1</td>\n",
       "      <td>53</td>\n",
       "      <td>1594086</td>\n",
       "    </tr>\n",
       "    <tr>\n",
       "      <th>2</th>\n",
       "      <td>1</td>\n",
       "      <td>24</td>\n",
       "      <td>326992</td>\n",
       "    </tr>\n",
       "    <tr>\n",
       "      <th>...</th>\n",
       "      <td>...</td>\n",
       "      <td>...</td>\n",
       "      <td>...</td>\n",
       "    </tr>\n",
       "    <tr>\n",
       "      <th>133</th>\n",
       "      <td>1</td>\n",
       "      <td>38</td>\n",
       "      <td>1471464</td>\n",
       "    </tr>\n",
       "    <tr>\n",
       "      <th>137</th>\n",
       "      <td>0</td>\n",
       "      <td>39</td>\n",
       "      <td>1491901</td>\n",
       "    </tr>\n",
       "    <tr>\n",
       "      <th>72</th>\n",
       "      <td>1</td>\n",
       "      <td>72</td>\n",
       "      <td>1021850</td>\n",
       "    </tr>\n",
       "    <tr>\n",
       "      <th>140</th>\n",
       "      <td>1</td>\n",
       "      <td>69</td>\n",
       "      <td>1532775</td>\n",
       "    </tr>\n",
       "    <tr>\n",
       "      <th>37</th>\n",
       "      <td>1</td>\n",
       "      <td>36</td>\n",
       "      <td>694858</td>\n",
       "    </tr>\n",
       "  </tbody>\n",
       "</table>\n",
       "<p>100 rows × 3 columns</p>\n",
       "</div>"
      ],
      "text/plain": [
       "     Sex_Female?  Age   Income\n",
       "75             0   32  1103598\n",
       "21             0   30   490488\n",
       "91             0   22  1205783\n",
       "152            1   53  1594086\n",
       "2              1   24   326992\n",
       "..           ...  ...      ...\n",
       "133            1   38  1471464\n",
       "137            0   39  1491901\n",
       "72             1   72  1021850\n",
       "140            1   69  1532775\n",
       "37             1   36   694858\n",
       "\n",
       "[100 rows x 3 columns]"
      ]
     },
     "execution_count": 62,
     "metadata": {},
     "output_type": "execute_result"
    }
   ],
   "source": [
    "x_train"
   ]
  },
  {
   "cell_type": "code",
   "execution_count": 63,
   "metadata": {},
   "outputs": [
    {
     "name": "stdout",
     "output_type": "stream",
     "text": [
      "mean_absolute_error TRAIN:  5.810299999999999\n",
      "mean_absolute_error TEST:  19.9461\n",
      "Average Rating:  58.2\n",
      "MAE percentage in relation to the average Rating:  34.27\n"
     ]
    }
   ],
   "source": [
    "rf_model = RandomForestRegressor(random_state=1)\n",
    "rf_model.fit(x_train, y_train)\n",
    "\n",
    "\n",
    "preds_train_rf_model = rf_model.predict(x_train)\n",
    "MAE_train = metrics.mean_absolute_error(y_train, preds_train_rf_model)\n",
    "print('mean_absolute_error TRAIN: ', MAE_train)\n",
    "\n",
    "preds_test_rf_model = rf_model.predict(x_test)\n",
    "MAE_test = metrics.mean_absolute_error(y_test, preds_test_rf_model)\n",
    "print('mean_absolute_error TEST: ', MAE_test)\n",
    "\n",
    "test_avg = round(y_test.mean(), 2)\n",
    "print(\"Average Rating: \", y_test.describe()['mean'])\n",
    "\n",
    "MAE_ratio = round(MAE_test/test_avg * 100, 2)\n",
    "print(\"MAE percentage in relation to the average Rating: \", MAE_ratio)"
   ]
  },
  {
   "cell_type": "markdown",
   "metadata": {},
   "source": [
    "## Adding Clusters as a Variable"
   ]
  },
  {
   "cell_type": "code",
   "execution_count": 64,
   "metadata": {},
   "outputs": [
    {
     "data": {
      "text/html": [
       "<div>\n",
       "<style scoped>\n",
       "    .dataframe tbody tr th:only-of-type {\n",
       "        vertical-align: middle;\n",
       "    }\n",
       "\n",
       "    .dataframe tbody tr th {\n",
       "        vertical-align: top;\n",
       "    }\n",
       "\n",
       "    .dataframe thead th {\n",
       "        text-align: right;\n",
       "    }\n",
       "</style>\n",
       "<table border=\"1\" class=\"dataframe\">\n",
       "  <thead>\n",
       "    <tr style=\"text-align: right;\">\n",
       "      <th></th>\n",
       "      <th>Cus_ID</th>\n",
       "      <th>Sex_Female?</th>\n",
       "      <th>Age</th>\n",
       "      <th>Income</th>\n",
       "      <th>Rating</th>\n",
       "      <th>Group</th>\n",
       "    </tr>\n",
       "  </thead>\n",
       "  <tbody>\n",
       "    <tr>\n",
       "      <th>0</th>\n",
       "      <td>301219</td>\n",
       "      <td>0</td>\n",
       "      <td>23</td>\n",
       "      <td>306555</td>\n",
       "      <td>44</td>\n",
       "      <td>4</td>\n",
       "    </tr>\n",
       "    <tr>\n",
       "      <th>1</th>\n",
       "      <td>301220</td>\n",
       "      <td>1</td>\n",
       "      <td>26</td>\n",
       "      <td>306555</td>\n",
       "      <td>91</td>\n",
       "      <td>1</td>\n",
       "    </tr>\n",
       "    <tr>\n",
       "      <th>2</th>\n",
       "      <td>301221</td>\n",
       "      <td>1</td>\n",
       "      <td>24</td>\n",
       "      <td>326992</td>\n",
       "      <td>7</td>\n",
       "      <td>4</td>\n",
       "    </tr>\n",
       "    <tr>\n",
       "      <th>3</th>\n",
       "      <td>301222</td>\n",
       "      <td>0</td>\n",
       "      <td>28</td>\n",
       "      <td>326992</td>\n",
       "      <td>87</td>\n",
       "      <td>1</td>\n",
       "    </tr>\n",
       "    <tr>\n",
       "      <th>4</th>\n",
       "      <td>301223</td>\n",
       "      <td>1</td>\n",
       "      <td>38</td>\n",
       "      <td>347429</td>\n",
       "      <td>45</td>\n",
       "      <td>4</td>\n",
       "    </tr>\n",
       "  </tbody>\n",
       "</table>\n",
       "</div>"
      ],
      "text/plain": [
       "   Cus_ID  Sex_Female?  Age  Income  Rating  Group\n",
       "0  301219            0   23  306555      44      4\n",
       "1  301220            1   26  306555      91      1\n",
       "2  301221            1   24  326992       7      4\n",
       "3  301222            0   28  326992      87      1\n",
       "4  301223            1   38  347429      45      4"
      ]
     },
     "execution_count": 64,
     "metadata": {},
     "output_type": "execute_result"
    }
   ],
   "source": [
    "df_cluster = df\n",
    "df_cluster['Group'] = clusters.labels_\n",
    "df_cluster.head()"
   ]
  },
  {
   "cell_type": "code",
   "execution_count": 65,
   "metadata": {},
   "outputs": [],
   "source": [
    "x_cluster = df_cluster.drop(['Cus_ID','Rating'], axis = 1)\n",
    "y_cluster = df_cluster['Rating']\n",
    "\n",
    "x_train_cluster, x_test_cluster, y_train_cluster, y_test_cluster = tts(x_cluster, y_cluster, test_size=0.5, random_state=1)"
   ]
  },
  {
   "cell_type": "code",
   "execution_count": 66,
   "metadata": {},
   "outputs": [
    {
     "name": "stdout",
     "output_type": "stream",
     "text": [
      "mean_absolute_error TRAIN:  4.208899999999999\n",
      "mean_absolute_error TEST:  12.026600000000004\n",
      "Average Rating:  58.2\n",
      "MAE percentage in relation to the average Rating:  20.66\n"
     ]
    }
   ],
   "source": [
    "rf_model_cluster = RandomForestRegressor(random_state=1)\n",
    "rf_model_cluster.fit(x_train_cluster, y_train_cluster)\n",
    "\n",
    "\n",
    "preds_train_rf_model_cluster = rf_model_cluster.predict(x_train_cluster)\n",
    "MAE_train_cluster = metrics.mean_absolute_error(y_train_cluster, preds_train_rf_model_cluster)\n",
    "print('mean_absolute_error TRAIN: ', MAE_train_cluster)\n",
    "\n",
    "preds_test_rf_model_cluster = rf_model_cluster.predict(x_test_cluster)\n",
    "MAE_test_cluster = metrics.mean_absolute_error(y_test_cluster, preds_test_rf_model_cluster)\n",
    "print('mean_absolute_error TEST: ', MAE_test_cluster)\n",
    "\n",
    "test_avg_cluster = round(y_test_cluster.mean(), 2)\n",
    "print(\"Average Rating: \", test_avg_cluster)\n",
    "\n",
    "MAE_ratio_cluster = round(MAE_test_cluster/test_avg_cluster * 100, 2)\n",
    "print(\"MAE percentage in relation to the average Rating: \", MAE_ratio_cluster)"
   ]
  },
  {
   "cell_type": "markdown",
   "metadata": {},
   "source": [
    "## Conclusion\n",
    "- Adding Clusters as a variable improved the regression Score and Stability."
   ]
  },
  {
   "cell_type": "markdown",
   "metadata": {},
   "source": [
    "Predicting new customers "
   ]
  },
  {
   "cell_type": "code",
   "execution_count": 67,
   "metadata": {},
   "outputs": [
    {
     "data": {
      "text/plain": [
       "array([2])"
      ]
     },
     "execution_count": 67,
     "metadata": {},
     "output_type": "execute_result"
    }
   ],
   "source": [
    "# income(10k),rating\n",
    "model.predict([[150,20]])"
   ]
  }
 ],
 "metadata": {
  "kernelspec": {
   "display_name": "Python 3",
   "language": "python",
   "name": "python3"
  },
  "language_info": {
   "codemirror_mode": {
    "name": "ipython",
    "version": 3
   },
   "file_extension": ".py",
   "mimetype": "text/x-python",
   "name": "python",
   "nbconvert_exporter": "python",
   "pygments_lexer": "ipython3",
   "version": "3.8.5"
  }
 },
 "nbformat": 4,
 "nbformat_minor": 4
}
